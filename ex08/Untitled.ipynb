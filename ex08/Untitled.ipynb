{
 "cells": [
  {
   "cell_type": "code",
   "execution_count": 1,
   "metadata": {
    "collapsed": true
   },
   "outputs": [],
   "source": [
    "import numpy as np\n",
    "import matplotlib.pyplot as plt\n",
    "%matplotlib inline\n"
   ]
  },
  {
   "cell_type": "markdown",
   "metadata": {},
   "source": [
    "## 2 Chimpanzee"
   ]
  },
  {
   "cell_type": "code",
   "execution_count": 32,
   "metadata": {
    "collapsed": false
   },
   "outputs": [
    {
     "name": "stdout",
     "output_type": "stream",
     "text": [
      "[ 0.  0.  0.  0.  1.  0.  1.  1.  1.  0.  1.  1.  1.  1.  1.  0.  0.  0.\n",
      "  0.  1.]\n"
     ]
    }
   ],
   "source": [
    "trans_X = np.ones((2,2)) * 0.5\n",
    "trans_Y = np.array([[.5, .4, .1],\n",
    "              [.4, .1, .5]])\n",
    "\n",
    "Obs = [0, 1, 1, 0, 2, 0, 2, 2, 2, 0, 2, 2, 2, 2, 2, 0, 0, 1, 1, 2]\n",
    "D = len(Obs)\n",
    "f_t = 0.5\n",
    "p_x1 = np.asarray((0.5, 0.5))\n",
    "x = np.zeros((D))\n",
    "\n",
    "# Init\n",
    "gamma = -np.log(trans_Y[:, Obs]).T\n",
    "beta = np.zeros((D, 2))\n",
    "alpha = np.zeros((D, 2))\n",
    "\n",
    "for t in range(D-2, 0, -1):\n",
    "    beta[t, :] = np.min(gamma[t+1] + f_t + beta[t+1])\n",
    "\n",
    "alpha[0, :] = -np.log(p_x1)\n",
    "x[0] = np.argmin(alpha[0, :] + beta[0, :] + gamma[0, :])\n",
    "    \n",
    "for t in range(1, D):\n",
    "    x[t] = np.argmin(alpha[t, :] + beta[t, :] + gamma[t, :])\n",
    "    \n",
    "print x"
   ]
  },
  {
   "cell_type": "code",
   "execution_count": null,
   "metadata": {
    "collapsed": false
   },
   "outputs": [],
   "source": []
  },
  {
   "cell_type": "code",
   "execution_count": null,
   "metadata": {
    "collapsed": true
   },
   "outputs": [],
   "source": []
  }
 ],
 "metadata": {
  "kernelspec": {
   "display_name": "Python 2",
   "language": "python",
   "name": "python2"
  },
  "language_info": {
   "codemirror_mode": {
    "name": "ipython",
    "version": 2
   },
   "file_extension": ".py",
   "mimetype": "text/x-python",
   "name": "python",
   "nbconvert_exporter": "python",
   "pygments_lexer": "ipython2",
   "version": "2.7.6"
  }
 },
 "nbformat": 4,
 "nbformat_minor": 0
}
