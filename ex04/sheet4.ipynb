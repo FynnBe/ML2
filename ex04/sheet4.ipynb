{
 "cells": [
  {
   "cell_type": "code",
   "execution_count": 56,
   "metadata": {
    "collapsed": true
   },
   "outputs": [],
   "source": [
    "import numpy as np\n",
    "from sklearn.cross_validation import cross_val_score, train_test_split, KFold\n",
    "from sklearn.utils import shuffle"
   ]
  },
  {
   "cell_type": "markdown",
   "metadata": {},
   "source": [
    "\n",
    "## 1.1 Dataset Preparration"
   ]
  },
  {
   "cell_type": "code",
   "execution_count": 57,
   "metadata": {
    "collapsed": false
   },
   "outputs": [],
   "source": [
    "from sklearn.datasets import load_digits\n",
    "digits = load_digits()\n",
    "data = digits[\"data\"]\n",
    "images = digits[\"images\"]\n",
    "target = digits[\"target\"]\n",
    "target_names = digits[\"target_names\"]"
   ]
  },
  {
   "cell_type": "code",
   "execution_count": 75,
   "metadata": {
    "collapsed": false
   },
   "outputs": [],
   "source": [
    "Xk = []\n",
    "std = data.std()\n",
    "for i in range(10):\n",
    "    Xk.append(data[target == i])\n",
    "    Xk_mean = sum(Xk[i]) / len(Xk[i])\n",
    "    Xk[i] -= Xk_mean\n",
    "    data[target == i] -= Xk_mean\n",
    "    Xk[i] /= std\n",
    "    \n",
    "data /= std\n",
    "\n",
    "data, target = shuffle(data, target, random_state=0)"
   ]
  },
  {
   "cell_type": "markdown",
   "metadata": {},
   "source": [
    "## 1.2 One vs Rest"
   ]
  },
  {
   "cell_type": "code",
   "execution_count": 77,
   "metadata": {
    "collapsed": false
   },
   "outputs": [
    {
     "name": "stdout",
     "output_type": "stream",
     "text": [
      "1\n",
      "2\n",
      "1\n",
      "2\n",
      "[ 1.  6.  2. ...,  6.  6.  7.]\n",
      "[ 1.  6.  2. ...,  6.  6.  7.]\n",
      "[ 1.  6.  2. ...,  6.  6.  7.]\n",
      "[ 1.  6.  2. ...,  6.  6.  7.]\n",
      "[ 1.  6.  2. ...,  6.  6.  7.]\n"
     ]
    }
   ],
   "source": [
    "from sklearn.ensemble import RandomForestClassifier as rfc\n",
    "\n",
    "rfc_auto = []\n",
    "rfc_subs = []\n",
    "for i in range(10):\n",
    "    rfc_auto.append(rfc(n_estimators=20, random_state=1, class_weight=\"auto\"))\n",
    "    # just returns 1.s and  0.s??? What about those weights??\n",
    "    rfc_subs.append(rfc(n_estimators=20, random_state=1, class_weight=\"balanced_subsample\"))\n",
    "\n",
    "\n",
    "def binary_prediction(rfcs, X):\n",
    "    bin_codes = np.matrix([rfcs[i].predict(X) for i in range(10)])\n",
    "    # print(\"shape bincodes:\", np.shape(bin_codes))\n",
    "    predictions = np.where(bin_codes)\n",
    "    out = np.ndarray(len(X))\n",
    "    # out.fill(-1)\n",
    "    out[predictions[1]] = predictions[0]\n",
    "    for i in range(len(X)):\n",
    "        if sum(bin_codes[:, i]) != 1:\n",
    "            out[i] = -1\n",
    "            # print(\"sum\", np.sum(bin_codes[:, i]))\n",
    "            # print(\"shape(bin_codes[:, i]\", np.shape(bin_codes[:, i]))\n",
    "            # print(\"shape(bin_codes)\", np.shape(bin_codes))\n",
    "            # print(bin_codes[:, i])\n",
    "            # print(\"\")\n",
    "    return out\n",
    "    \n",
    "def argmax_prediction(rfcs, X):\n",
    "    results = np.matrix([rfcs[i].predict(X) for i in range(10)])\n",
    "    out = np.argmax(results, axis=0)\n",
    "    return out\n",
    "\n",
    "y_pred_auto_binary = np.empty((0), dtype=np.float_)\n",
    "y_pred_subs_binary = np.empty((0), dtype=np.float_)\n",
    "y_pred_auto_argmax = np.empty((0), dtype=np.float_)\n",
    "y_pred_subs_argmax = np.empty((0), dtype=np.float_)\n",
    "y_test = np.empty((0), dtype=np.float_)\n",
    "\n",
    "k_fold = KFold(n=len(target), n_folds=5, shuffle=False) # shuffled the training set before with seeding\n",
    "for train_indices, test_indices in k_fold:\n",
    "    # print(np.shape(data[train_indices]))\n",
    "    # print(target[train_indices] == i)\n",
    "    for i in range(10):\n",
    "        rfc_auto[i].fit(data[train_indices], target[train_indices] == i)\n",
    "        rfc_subs[i].fit(data[train_indices], target[train_indices] == i)\n",
    "    \n",
    "    \n",
    "    y_pred_auto_binary = np.append(y_pred_auto_binary, binary_prediction(rfc_auto, data[test_indices]))\n",
    "    y_pred_subs_binary = np.append(y_pred_subs_binary, binary_prediction(rfc_subs, data[test_indices]))\n",
    "    y_pred_auto_argmax = np.append(y_pred_auto_argmax, argmax_prediction(rfc_auto, data[test_indices]))\n",
    "    y_pred_subs_argmax = np.append(y_pred_subs_argmax, argmax_prediction(rfc_subs, data[test_indices]))\n",
    "    \n",
    "    y_test = np.append(y_test, target[test_indices])\n",
    "    \n",
    "\n",
    "# only small differences between the methods!?\n",
    "print(np.sum(y_pred_auto_binary != y_test))\n",
    "print(np.sum(y_pred_subs_binary != y_test))\n",
    "print(np.sum(y_pred_auto_argmax != y_test))\n",
    "print(np.sum(y_pred_subs_argmax != y_test))\n",
    "\n",
    "print(y_pred_auto_binary)\n",
    "print(y_pred_subs_binary)\n",
    "print(y_pred_auto_argmax)\n",
    "print(y_pred_subs_argmax)\n",
    "print(y_test)"
   ]
  },
  {
   "cell_type": "code",
   "execution_count": null,
   "metadata": {
    "collapsed": true
   },
   "outputs": [],
   "source": []
  }
 ],
 "metadata": {
  "kernelspec": {
   "display_name": "Python 3",
   "language": "python",
   "name": "python3"
  },
  "language_info": {
   "codemirror_mode": {
    "name": "ipython",
    "version": 3
   },
   "file_extension": ".py",
   "mimetype": "text/x-python",
   "name": "python",
   "nbconvert_exporter": "python",
   "pygments_lexer": "ipython3",
   "version": "3.5.1"
  }
 },
 "nbformat": 4,
 "nbformat_minor": 0
}
